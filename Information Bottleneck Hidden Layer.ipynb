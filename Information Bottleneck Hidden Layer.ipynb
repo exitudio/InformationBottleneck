{
 "cells": [
  {
   "cell_type": "code",
   "execution_count": 1,
   "id": "3ae54a34",
   "metadata": {},
   "outputs": [],
   "source": [
    "import torch\n",
    "import torch.nn as nn\n",
    "import torch.nn.functional as F\n",
    "import torch.optim as optim\n",
    "from torchvision import datasets, transforms\n",
    "from torch.optim.lr_scheduler import StepLR\n",
    "torch.manual_seed(1)\n",
    "device = torch.device(\"cuda\" if torch.cuda.is_available() else \"cpu\")\n",
    "\n",
    "import numpy as np\n",
    "from random import randint, seed\n",
    "from torch.utils.data import Dataset\n",
    "from collections import Counter"
   ]
  },
  {
   "cell_type": "markdown",
   "id": "09e0c167",
   "metadata": {},
   "source": [
    "https://github.com/stevenliuyi/information-bottleneck/blob/master/information_bottleneck.ipynb <br>\n",
    "function: calc_mutual_information"
   ]
  },
  {
   "cell_type": "markdown",
   "id": "cc92dd22",
   "metadata": {},
   "source": [
    "### Information Bottleneck theory for Deep Learning"
   ]
  },
  {
   "cell_type": "code",
   "execution_count": 2,
   "id": "ee9a0a0e",
   "metadata": {},
   "outputs": [],
   "source": [
    "n_train_samples = 50000 # number of train samples\n",
    "n_test_samples = 10000 # number of test samples\n",
    "\n",
    "groups = np.append(np.zeros(8),np.ones(8)) # 16 groups\n",
    "np.random.seed(1234)\n",
    "np.random.shuffle(groups)\n",
    "\n",
    "# generate samples\n",
    "seed(1234)\n",
    "def generate_samples(n_samples):\n",
    "    x_data = np.zeros((n_samples, 10)) # inputs\n",
    "    x_int = np.zeros(n_samples) # integers representing the inputs\n",
    "    y_data = np.zeros((n_samples, 2)) # outputs\n",
    "    \n",
    "    for i in range(n_samples):\n",
    "        random_int = randint(0, 1023)\n",
    "        x_data[i,:] = [int(b) for b in list(\"{0:b}\".format(random_int).zfill(10))]\n",
    "        x_int[i] = random_int\n",
    "        y_data[i,0] = groups[random_int % 16]\n",
    "        y_data[i,1] = 1 - y_data[i,0]\n",
    "        \n",
    "    return np.array(x_data, dtype=np.float32), np.array(y_data, dtype=np.float32), x_int\n",
    "\n",
    "x_train, y_train, x_train_int = generate_samples(n_train_samples) # training dataset\n",
    "x_test, y_test, _ = generate_samples(n_test_samples) # testing dataset"
   ]
  },
  {
   "cell_type": "code",
   "execution_count": 3,
   "id": "2d1d258a",
   "metadata": {},
   "outputs": [],
   "source": [
    "def calc_mutual_information(hidden):\n",
    "    n_neurons = hidden.shape[1]\n",
    "  \n",
    "    # discretization \n",
    "    n_bins = 30\n",
    "    bins = np.linspace(-1, 1, n_bins+1)\n",
    "    indices = np.digitize(hidden, bins)\n",
    "    \n",
    "    # initialize pdfs\n",
    "    pdf_x = Counter(); pdf_y = Counter(); pdf_t = Counter(); pdf_xt = Counter(); pdf_yt = Counter()\n",
    "\n",
    "    for i in range(n_train_samples):\n",
    "        pdf_x[x_train_int[i]] += 1/float(n_train_samples)\n",
    "        pdf_y[y_train[i,0]] += 1/float(n_train_samples)      \n",
    "        pdf_xt[(x_train_int[i],)+tuple(indices[i,:])] += 1/float(n_train_samples)\n",
    "        pdf_yt[(y_train[i,0],)+tuple(indices[i,:])] += 1/float(n_train_samples)\n",
    "        pdf_t[tuple(indices[i,:])] += 1/float(n_train_samples)\n",
    "    \n",
    "    # calcuate encoder mutual information I(X;T)\n",
    "    mi_xt = 0\n",
    "    for i in pdf_xt:\n",
    "        # P(x,t), P(x) and P(t)\n",
    "        p_xt = pdf_xt[i]; p_x = pdf_x[i[0]]; p_t = pdf_t[i[1:]]\n",
    "        # I(X;T)\n",
    "        mi_xt += p_xt * np.log(p_xt / p_x / p_t)\n",
    " \n",
    "    # calculate decoder mutual information I(T;Y)\n",
    "    mi_ty = 0\n",
    "    for i in pdf_yt:\n",
    "        # P(t,y), P(t) and P(y)\n",
    "        p_yt = pdf_yt[i]; p_t = pdf_t[i[1:]]; p_y = pdf_y[i[0]]\n",
    "        # I(X;T)\n",
    "        mi_ty += p_yt * np.log(p_yt / p_t / p_y)\n",
    "            \n",
    "    return mi_xt, mi_ty\n",
    "\n",
    "# get mutual information for all hidden layers\n",
    "def get_mutual_information(hiddens):\n",
    "    mi_xt_list = []; mi_ty_list = []\n",
    "    for hidden in hiddens:\n",
    "        mi_xt, mi_ty = calc_mutual_information(hidden)\n",
    "        mi_xt_list.append(mi_xt)\n",
    "        mi_ty_list.append(mi_ty)\n",
    "    return mi_xt_list, mi_ty_list"
   ]
  },
  {
   "cell_type": "code",
   "execution_count": 4,
   "id": "affcdb9d",
   "metadata": {},
   "outputs": [],
   "source": [
    "def get_all_mutual_information():\n",
    "    _activation = []\n",
    "    for k in activation.keys():\n",
    "        _activation.append(activation[k].detach().cpu().numpy())\n",
    "    mi_xt, mi_ty = get_mutual_information(_activation)\n",
    "    return mi_xt, mi_ty"
   ]
  },
  {
   "cell_type": "code",
   "execution_count": 11,
   "id": "9acc8452",
   "metadata": {},
   "outputs": [],
   "source": [
    "class Net(nn.Module):\n",
    "    def __init__(self):\n",
    "        super(Net, self).__init__()\n",
    "        self.fc1 = nn.Linear(10 , 8)\n",
    "        self.fc2 = nn.Linear(8, 6)\n",
    "        self.fc3 = nn.Linear(6, 4)\n",
    "        self.fc4 = nn.Linear(4, 2)\n",
    "\n",
    "    def forward(self, x):\n",
    "        x = self.fc1(x)\n",
    "        x = F.relu(x)\n",
    "        x = self.fc2(x)\n",
    "        x = F.relu(x)\n",
    "        x = self.fc3(x)\n",
    "        x = F.relu(x)\n",
    "        x = self.fc4(x)\n",
    "        output = F.log_softmax(x, dim=1)\n",
    "        return output\n",
    "model = Net().to(device)\n",
    "\n",
    "def init_weights(m):\n",
    "    if isinstance(m, nn.Linear):\n",
    "        torch.nn.init.xavier_uniform_(m.weight)\n",
    "#         trunc_normal_(m.weight, std=.02)\n",
    "        m.bias.data.fill_(0.01)\n",
    "model.apply(init_weights)\n",
    "\n",
    "activation = {}\n",
    "def get_activation(name):\n",
    "    def hook(model, input, output):\n",
    "        if name not in activation:\n",
    "            activation[name] = output.detach()\n",
    "        else:\n",
    "            activation[name] = torch.cat([activation[name], output.detach()])\n",
    "    return hook\n",
    "\n",
    "handle1 = model.fc1.register_forward_hook(get_activation('fc1')) \n",
    "handle2 = model.fc2.register_forward_hook(get_activation('fc2')) \n",
    "handle3 = model.fc3.register_forward_hook(get_activation('fc3'))\n",
    "handle4 = model.fc4.register_forward_hook(get_activation('fc4')) \n"
   ]
  },
  {
   "cell_type": "code",
   "execution_count": 6,
   "id": "742601c5",
   "metadata": {
    "scrolled": true
   },
   "outputs": [
    {
     "name": "stdout",
     "output_type": "stream",
     "text": [
      "[6.921128755327638, 5.368680029996653, 3.876021726431035, 2.8928263507581677] [0.6931212603355567, 0.206257500501965, 0.05758246860708007, 0.02084282634457471]\n",
      "test_loss: 0.7180464267730713 correct: 0.50544\n",
      "[6.921128755327638, 5.513164383687833, 2.672781151654214, 2.1438474680695] [0.6931212603355567, 0.2882212292096779, 0.07719084828003332, 0.05951539262522278]\n",
      "test_loss: 0.6730822920799255 correct: 0.57178\n",
      "[6.921128755327638, 5.875534197472937, 3.3071275616752174, 2.628757741026634] [0.6931212603355567, 0.4463945654935805, 0.16218045755592292, 0.1319361459092478]\n",
      "test_loss: 0.6353397369384766 correct: 0.6405\n",
      "[6.921128755327638, 5.892116422169893, 3.44619205601459, 2.816421691103166] [0.6931212603355567, 0.5245380246493605, 0.25088237912509376, 0.2271902365391314]\n",
      "test_loss: 0.5719956755638123 correct: 0.7047\n",
      "[6.921128755327638, 5.561612035364162, 3.2241722565088113, 2.878011019593856] [0.6931212603355567, 0.48695687913203645, 0.2637441774589237, 0.2453424230625112]\n",
      "test_loss: 0.5085439682006836 correct: 0.73806\n",
      "[6.921128755327638, 5.168228935709753, 3.031125343865317, 3.250170702049875] [0.6931212603355567, 0.46327964333943206, 0.29151350216067445, 0.287093070881081]\n",
      "test_loss: 0.46152061223983765 correct: 0.75358\n",
      "[6.921128755327638, 4.724762474553731, 3.163422880601032, 3.4344043489497165] [0.6931212603355567, 0.4605479469647656, 0.36340303363012794, 0.3674070216582989]\n",
      "test_loss: 0.40608102083206177 correct: 0.77702\n",
      "[6.921128755327638, 4.358665407664228, 2.9669183004136523, 3.2866489669528747] [0.6931212603355567, 0.47873618684857266, 0.43383114064192124, 0.44373199111205835]\n",
      "test_loss: 0.3385288417339325 correct: 0.85606\n",
      "[6.921128755327638, 4.106146494607864, 2.89200612894201, 2.923272397810019] [0.6931212603355567, 0.5727437409810262, 0.5690859484264732, 0.5793307823101452]\n",
      "test_loss: 0.2393316626548767 correct: 0.95244\n",
      "[6.921128755327638, 4.196951521733013, 2.953911359895043, 2.656218323760107] [0.6931212603355567, 0.6931212603355468, 0.6912337499212011, 0.6917385681375212]\n",
      "test_loss: 0.2337646484375 correct: 0.93726\n",
      "[6.921128755327638, 3.754779988331672, 2.6452878226139545, 2.2354028403500488] [0.6931212603355567, 0.6931212603355548, 0.6931212603355552, 0.693121260335545]\n",
      "test_loss: 0.03991309925913811 correct: 1.0\n",
      "[6.921128755327638, 3.43252250284621, 2.433862828022731, 1.675732462354772] [0.6931212603355567, 0.6931212603355689, 0.6931212603356034, 0.6931212603356709]\n",
      "test_loss: 0.02131192944943905 correct: 1.0\n",
      "[6.921128755327638, 3.277949903604453, 2.307704835808054, 1.0785347602077644] [0.6931212603355567, 0.693121260335565, 0.6931212603356266, 0.6931212603357979]\n",
      "test_loss: 0.014199852012097836 correct: 1.0\n",
      "[6.921128755327638, 3.1380464875203335, 2.2945109091881597, 0.846686394930191] [0.6931212603355567, 0.6931212603355578, 0.69312126033563, 0.6931212603358373]\n",
      "test_loss: 0.01044459268450737 correct: 1.0\n",
      "[6.921128755327638, 3.0547111426702047, 2.2344381289900856, 0.7443759738506153] [0.6931212603355567, 0.6931212603355522, 0.6931212603356398, 0.6931212603358518]\n",
      "test_loss: 0.008148733526468277 correct: 1.0\n",
      "[6.921128755327638, 3.00337721004378, 2.280791426971325, 0.7126537237886559] [0.6931212603355567, 0.6931212603355493, 0.6931212603356344, 0.6931212603358554]\n",
      "test_loss: 0.00660999771207571 correct: 1.0\n",
      "[6.921128755327638, 2.9468175593641206, 2.22782389709741, 0.6931212603355567] [0.6931212603355567, 0.6931212603355478, 0.6931212603356431, 0.6931212603358576]\n",
      "test_loss: 0.005511133465915918 correct: 1.0\n",
      "[6.9196653267856005, 2.895104992592021, 2.2361674693535716, 0.6931212603355567] [0.6931212603355567, 0.693121260335546, 0.6931212603356423, 0.6931212603358576]\n",
      "test_loss: 0.004696967080235481 correct: 1.0\n",
      "[6.9196653267856005, 2.8484119600127924, 2.2660519267514836, 0.6931212603355567] [0.6931212603355567, 0.6931212603355451, 0.6931212603356331, 0.6931212603358576]\n",
      "test_loss: 0.004074950702488422 correct: 1.0\n",
      "[6.9196653267856005, 2.83183305671098, 2.236539514850654, 0.6931212603355567] [0.6931212603355567, 0.6931212603355447, 0.6931212603356457, 0.6931212603358576]\n",
      "test_loss: 0.003584007965400815 correct: 1.0\n"
     ]
    }
   ],
   "source": [
    "optimizer = optim.SGD(model.parameters(), lr=.1)\n",
    "_y_train = np.argmax(y_train, axis=1)\n",
    "data, target = torch.tensor(x_train).to(device), torch.tensor(_y_train).to(device)\n",
    "mi_xt_all = []; mi_ty_all = []; epochs = []\n",
    "for epoch in range(0, 1000):\n",
    "    activation = {}\n",
    "    \n",
    "    model.train()\n",
    "    optimizer.zero_grad()\n",
    "    output = F.log_softmax(model(data), dim=1)\n",
    "    loss = F.nll_loss(output, target) # nn.CrossEntropyLoss applies internally F.log_softmax and nn.NLLLoss\n",
    "    loss.backward()\n",
    "    optimizer.step()\n",
    "#     print(epoch, loss.item())\n",
    "\n",
    "    if epoch % 50 == 0:\n",
    "        mi_xt, mi_ty = get_all_mutual_information()\n",
    "        print(mi_xt, mi_ty)\n",
    "        mi_xt_all.append(mi_xt)\n",
    "        mi_ty_all.append(mi_ty)\n",
    "        epochs.append(epoch)\n",
    "    \n",
    "        model.eval()\n",
    "        test_loss = 0\n",
    "        correct = 0\n",
    "        with torch.no_grad():\n",
    "            output = F.log_softmax(model(data), dim=1)\n",
    "            test_loss += F.nll_loss(output, target, reduction='mean').item()  # sum up batch loss\n",
    "            pred = output.argmax(dim=1, keepdim=True)  # get the index of the max log-probability\n",
    "            correct += pred.eq(target.view_as(pred)).sum().item()\n",
    "        print('test_loss:', test_loss, 'correct:', correct/len(target))"
   ]
  },
  {
   "cell_type": "code",
   "execution_count": 7,
   "id": "d8103fdf",
   "metadata": {},
   "outputs": [],
   "source": [
    "%matplotlib inline\n",
    "import matplotlib.pyplot as plt\n",
    "from matplotlib import animation\n",
    "from IPython.display import HTML"
   ]
  },
  {
   "cell_type": "code",
   "execution_count": 8,
   "id": "9fe430e7",
   "metadata": {},
   "outputs": [],
   "source": [
    "mi_xt_all = np.array(mi_xt_all)\n",
    "mi_ty_all = np.array(mi_ty_all)"
   ]
  },
  {
   "cell_type": "code",
   "execution_count": 9,
   "id": "fdbcd9f6",
   "metadata": {
    "scrolled": true
   },
   "outputs": [],
   "source": [
    "cmap = plt.cm.get_cmap('cool')\n",
    "def animate(i):\n",
    "    title.set_text('Epoch %s' % str(epochs[i]).zfill(4))\n",
    "    ax.plot(mi_xt_all[i,:], mi_ty_all[i,:], 'k-',alpha=0.2)\n",
    "    if i > 0:\n",
    "        for j in range(len(mi_xt_all[0])):\n",
    "            ax.plot(mi_xt_all[(i-1):(i+1),j],mi_ty_all[(i-1):(i+1),j],'*-',c=cmap(j*.2),ms=10)\n",
    "    return"
   ]
  },
  {
   "cell_type": "code",
   "execution_count": 18,
   "id": "2e43eee0",
   "metadata": {},
   "outputs": [
    {
     "data": {
      "image/png": "[encoded data removed]",
      "text/plain": [
       "<Figure size 576x576 with 1 Axes>"
      ]
     },
     "metadata": {
      "needs_background": "light"
     },
     "output_type": "display_data"
    }
   ],
   "source": [
    "fig, ax = plt.subplots(figsize=(8,8))\n",
    "ax.set_xlim((0,7))\n",
    "ax.set_ylim((0.,0.7))\n",
    "ax.set_xlabel('I(X;T)')\n",
    "ax.set_ylabel('I(T;Y)')\n",
    "title = ax.set_title('')\n",
    "# for i in range(1,len(mi_xt_all)):\n",
    "#     animate(i)\n",
    "# animate(9)"
   ]
  },
  {
   "cell_type": "code",
   "execution_count": 20,
   "id": "9634fa23",
   "metadata": {},
   "outputs": [
    {
     "data": {
      "image/png": "[encoded data removed]",
      "text/plain": [
       "<Figure size 576x576 with 1 Axes>"
      ]
     },
     "metadata": {
      "needs_background": "light"
     },
     "output_type": "display_data"
    }
   ],
   "source": [
    "fig, ax = plt.subplots(figsize=(8,8))\n",
    "ax.set_xlim((0,7))\n",
    "ax.set_ylim((0.,0.7))\n",
    "ax.set_xlabel('I(X;T)')\n",
    "ax.set_ylabel('I(T;Y)')\n",
    "title = ax.set_title('')\n",
    "animate(1)"
   ]
  },
  {
   "cell_type": "code",
   "execution_count": null,
   "id": "00caee7b",
   "metadata": {},
   "outputs": [],
   "source": []
  }
 ],
 "metadata": {
  "kernelspec": {
   "display_name": "GaitSelfFormer",
   "language": "python",
   "name": "gaitselfformer"
  },
  "language_info": {
   "codemirror_mode": {
    "name": "ipython",
    "version": 3
   },
   "file_extension": ".py",
   "mimetype": "text/x-python",
   "name": "python",
   "nbconvert_exporter": "python",
   "pygments_lexer": "ipython3",
   "version": "3.7.11"
  }
 },
 "nbformat": 4,
 "nbformat_minor": 5
}
