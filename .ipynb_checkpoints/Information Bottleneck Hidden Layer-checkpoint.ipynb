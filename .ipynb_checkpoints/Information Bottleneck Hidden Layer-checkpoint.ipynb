{
 "cells": [
  {
   "cell_type": "code",
   "execution_count": 1,
   "id": "3ae54a34",
   "metadata": {},
   "outputs": [],
   "source": [
    "import torch\n",
    "import torch.nn as nn\n",
    "import torch.nn.functional as F\n",
    "import torch.optim as optim\n",
    "from torchvision import datasets, transforms\n",
    "from torch.optim.lr_scheduler import StepLR\n",
    "torch.manual_seed(1)\n",
    "device = torch.device(\"cuda\" if torch.cuda.is_available() else \"cpu\")\n",
    "\n",
    "import numpy as np\n",
    "from random import randint, seed\n",
    "from torch.utils.data import Dataset\n",
    "from collections import Counter"
   ]
  },
  {
   "cell_type": "markdown",
   "id": "09e0c167",
   "metadata": {},
   "source": [
    "https://github.com/stevenliuyi/information-bottleneck/blob/master/information_bottleneck.ipynb <br>\n",
    "function: calc_mutual_information"
   ]
  },
  {
   "cell_type": "markdown",
   "id": "cc92dd22",
   "metadata": {},
   "source": [
    "### Information Bottleneck theory for Deep Learning"
   ]
  },
  {
   "cell_type": "code",
   "execution_count": 2,
   "id": "ee9a0a0e",
   "metadata": {},
   "outputs": [],
   "source": [
    "n_train_samples = 50000 # number of train samples\n",
    "n_test_samples = 10000 # number of test samples\n",
    "\n",
    "groups = np.append(np.zeros(8),np.ones(8)) # 16 groups\n",
    "np.random.seed(1234)\n",
    "np.random.shuffle(groups)\n",
    "\n",
    "# generate samples\n",
    "seed(1234)\n",
    "def generate_samples(n_samples):\n",
    "    x_data = np.zeros((n_samples, 10)) # inputs\n",
    "    x_int = np.zeros(n_samples) # integers representing the inputs\n",
    "    y_data = np.zeros((n_samples, 2)) # outputs\n",
    "    \n",
    "    for i in range(n_samples):\n",
    "        random_int = randint(0, 1023)\n",
    "        x_data[i,:] = [int(b) for b in list(\"{0:b}\".format(random_int).zfill(10))]\n",
    "        x_int[i] = random_int\n",
    "        y_data[i,0] = groups[random_int % 16]\n",
    "        y_data[i,1] = 1 - y_data[i,0]\n",
    "        \n",
    "    return np.array(x_data, dtype=np.float32), np.array(y_data, dtype=np.float32), x_int\n",
    "\n",
    "x_train, y_train, x_train_int = generate_samples(n_train_samples) # training dataset\n",
    "x_test, y_test, _ = generate_samples(n_test_samples) # testing dataset"
   ]
  },
  {
   "cell_type": "code",
   "execution_count": 3,
   "id": "2d1d258a",
   "metadata": {},
   "outputs": [],
   "source": [
    "def calc_mutual_information(hidden):\n",
    "    n_neurons = hidden.shape[1]\n",
    "  \n",
    "    # discretization \n",
    "    n_bins = 30\n",
    "    bins = np.linspace(-1, 1, n_bins+1)\n",
    "    indices = np.digitize(hidden, bins)\n",
    "    \n",
    "    # initialize pdfs\n",
    "    pdf_x = Counter(); pdf_y = Counter(); pdf_t = Counter(); pdf_xt = Counter(); pdf_yt = Counter()\n",
    "\n",
    "    for i in range(n_train_samples):\n",
    "        pdf_x[x_train_int[i]] += 1/float(n_train_samples)\n",
    "        pdf_y[y_train[i,0]] += 1/float(n_train_samples)      \n",
    "        pdf_xt[(x_train_int[i],)+tuple(indices[i,:])] += 1/float(n_train_samples)\n",
    "        pdf_yt[(y_train[i,0],)+tuple(indices[i,:])] += 1/float(n_train_samples)\n",
    "        pdf_t[tuple(indices[i,:])] += 1/float(n_train_samples)\n",
    "    \n",
    "    # calcuate encoder mutual information I(X;T)\n",
    "    mi_xt = 0\n",
    "    for i in pdf_xt:\n",
    "        # P(x,t), P(x) and P(t)\n",
    "        p_xt = pdf_xt[i]; p_x = pdf_x[i[0]]; p_t = pdf_t[i[1:]]\n",
    "        # I(X;T)\n",
    "        mi_xt += p_xt * np.log(p_xt / p_x / p_t)\n",
    " \n",
    "    # calculate decoder mutual information I(T;Y)\n",
    "    mi_ty = 0\n",
    "    for i in pdf_yt:\n",
    "        # P(t,y), P(t) and P(y)\n",
    "        p_yt = pdf_yt[i]; p_t = pdf_t[i[1:]]; p_y = pdf_y[i[0]]\n",
    "        # I(X;T)\n",
    "        mi_ty += p_yt * np.log(p_yt / p_t / p_y)\n",
    "            \n",
    "    return mi_xt, mi_ty\n",
    "\n",
    "# get mutual information for all hidden layers\n",
    "def get_mutual_information(hiddens):\n",
    "    mi_xt_list = []; mi_ty_list = []\n",
    "    for hidden in hiddens:\n",
    "        mi_xt, mi_ty = calc_mutual_information(hidden)\n",
    "        mi_xt_list.append(mi_xt)\n",
    "        mi_ty_list.append(mi_ty)\n",
    "    return mi_xt_list, mi_ty_list"
   ]
  },
  {
   "cell_type": "code",
   "execution_count": 4,
   "id": "affcdb9d",
   "metadata": {},
   "outputs": [],
   "source": [
    "def get_all_mutual_information():\n",
    "    _activation = []\n",
    "    for k in activation.keys():\n",
    "        _activation.append(activation[k].detach().cpu().numpy())\n",
    "    mi_xt, mi_ty = get_mutual_information(_activation)\n",
    "    return mi_xt, mi_ty"
   ]
  },
  {
   "cell_type": "code",
   "execution_count": 5,
   "id": "9acc8452",
   "metadata": {},
   "outputs": [],
   "source": [
    "class Net(nn.Module):\n",
    "    def __init__(self):\n",
    "        super(Net, self).__init__()\n",
    "        self.fc1 = nn.Linear(10 , 8)\n",
    "        self.fc2 = nn.Linear(8, 6)\n",
    "        self.fc3 = nn.Linear(6, 4)\n",
    "        self.fc4 = nn.Linear(4, 2)\n",
    "\n",
    "    def forward(self, x):\n",
    "        x = self.fc1(x)\n",
    "        x = F.relu(x)\n",
    "        x = self.fc2(x)\n",
    "        x = F.relu(x)\n",
    "        x = self.fc3(x)\n",
    "        x = F.relu(x)\n",
    "        x = self.fc4(x)\n",
    "        output = F.log_softmax(x, dim=1)\n",
    "        return output\n",
    "model = Net().to(device)\n",
    "\n",
    "def init_weights(m):\n",
    "    if isinstance(m, nn.Linear):\n",
    "        torch.nn.init.xavier_uniform_(m.weight)\n",
    "#         trunc_normal_(m.weight, std=.02)\n",
    "        m.bias.data.fill_(0.01)\n",
    "model.apply(init_weights)\n",
    "\n",
    "activation = {}\n",
    "def get_activation(name):\n",
    "    def hook(model, input, output):\n",
    "        if name not in activation:\n",
    "            activation[name] = output.detach()\n",
    "        else:\n",
    "            activation[name] = torch.cat([activation[name], output.detach()])\n",
    "    return hook\n",
    "\n",
    "handle1 = model.fc1.register_forward_hook(get_activation('fc1')) \n",
    "handle2 = model.fc2.register_forward_hook(get_activation('fc2')) \n",
    "handle3 = model.fc3.register_forward_hook(get_activation('fc3'))\n",
    "handle4 = model.fc4.register_forward_hook(get_activation('fc4')) \n"
   ]
  },
  {
   "cell_type": "code",
   "execution_count": 6,
   "id": "742601c5",
   "metadata": {
    "scrolled": true
   },
   "outputs": [
    {
     "name": "stdout",
     "output_type": "stream",
     "text": [
      "[6.921128755327638, 6.594608259781819, 5.851507535180897, 3.959222882950883] [0.6931212603355567, 0.5901080791197371, 0.3721433761775837, 0.10842354317391481]\n",
      "test_loss: 0.6812949180603027 correct: 0.50132\n",
      "[6.921128755327638, 6.636309639210547, 5.875779845815742, 4.036499838095147] [0.6931212603355567, 0.6037954104246347, 0.4081784305993886, 0.17587780596855979]\n",
      "test_loss: 0.63428795337677 correct: 0.61516\n",
      "[6.921128755327638, 6.65596303255212, 5.958548895058214, 3.8754337757657273] [0.6931212603355567, 0.6303777863055106, 0.49693224154544824, 0.2910787693086052]\n",
      "test_loss: 0.5677087306976318 correct: 0.69482\n",
      "[6.921128755327638, 6.662928840155305, 5.887840409295432, 3.391916488620166] [0.6931212603355567, 0.6502872287724791, 0.5151312911107165, 0.30769921187169214]\n",
      "test_loss: 0.51198810338974 correct: 0.74384\n",
      "[6.921128755327638, 6.6618573784024555, 5.764005726877044, 2.8003850817455525] [0.6931212603355567, 0.6590774252415387, 0.5344519036612909, 0.3251043924951147]\n",
      "test_loss: 0.48631981015205383 correct: 0.74824\n",
      "[6.921128755327638, 6.674273040380915, 5.4295611085320274, 2.773412500578632] [0.6931212603355567, 0.6593931577839576, 0.48520712385783843, 0.3679764099300555]\n",
      "test_loss: 0.4670821726322174 correct: 0.74914\n",
      "[6.921128755327638, 6.651198576124744, 4.545279844895187, 2.8269441651263096] [0.6931212603355567, 0.645037550562386, 0.4400553842252459, 0.3907195003237771]\n",
      "test_loss: 0.4331575930118561 correct: 0.73744\n",
      "[6.921128755327638, 6.630049624800304, 3.4265519506680358, 2.5309874267459365] [0.6931212603355567, 0.6391649896611232, 0.4006970642430248, 0.40498076940268757]\n",
      "test_loss: 0.3943840265274048 correct: 0.7928\n",
      "[6.921128755327638, 6.620327615390088, 3.0685859093614183, 2.3283734432073264] [0.6931212603355567, 0.6539502120899252, 0.42478957118268973, 0.4383034481279334]\n",
      "test_loss: 0.35546669363975525 correct: 0.83822\n",
      "[6.9169396457879415, 6.616480670075763, 3.031729705747898, 2.2346140686528835] [0.6931212603355567, 0.6653114426820561, 0.4616457927169452, 0.4709424428904847]\n",
      "test_loss: 0.30899837613105774 correct: 0.87118\n",
      "[6.916872534540064, 6.508987555673711, 3.2067490267740015, 2.3631150997188954] [0.6931212603355567, 0.6879450348811453, 0.5071478417883185, 0.5316143084137661]\n",
      "test_loss: 0.252532958984375 correct: 0.9093\n",
      "[6.913789355118663, 6.108935374719594, 3.4180438818833228, 2.569177610873712] [0.6931212603355567, 0.693121260335555, 0.5995173938597104, 0.6094668422463592]\n",
      "test_loss: 0.18373191356658936 correct: 0.94116\n",
      "[6.891782359894145, 5.659220775262564, 3.481798283993654, 2.670723441414599] [0.6931212603355568, 0.6931212603355533, 0.6919177360288663, 0.6931212603355208]\n",
      "test_loss: 0.11551854759454727 correct: 1.0\n",
      "[6.892400035371776, 5.243364674046876, 3.3991436498620144, 2.279848939763484] [0.6931212603355569, 0.6931212603355511, 0.6931212603355272, 0.6931212603355861]\n",
      "test_loss: 0.06860819458961487 correct: 1.0\n",
      "[6.869585046763648, 4.932949066188669, 3.234851410839616, 2.2093386572270024] [0.693121260335557, 0.6931212603355481, 0.6931212603355194, 0.6931212603355985]\n",
      "test_loss: 0.04410192370414734 correct: 1.0\n",
      "[6.866739630889558, 4.722735255504236, 3.102514716695988, 1.8966400912632275] [0.6931212603355568, 0.6931212603355461, 0.6931212603355107, 0.6931212603356581]\n",
      "test_loss: 0.03132244944572449 correct: 1.0\n",
      "[6.8466291088504025, 4.630825312874775, 3.0349696428669803, 1.5888504835096655] [0.6931212603355569, 0.6931212603355464, 0.6931212603355101, 0.6931212603357104]\n",
      "test_loss: 0.02390711009502411 correct: 1.0\n",
      "[6.840530891396894, 4.565595475214495, 2.9980494960105055, 1.4615748335853003] [0.6931212603355571, 0.6931212603355447, 0.69312126033551, 0.6931212603357306]\n",
      "test_loss: 0.019325919449329376 correct: 1.0\n",
      "[6.84680408042407, 4.442992228088375, 3.0100507829485874, 1.315426210376657] [0.6931212603355571, 0.6931212603355438, 0.6931212603355104, 0.6931212603357564]\n",
      "test_loss: 0.016331857070326805 correct: 1.0\n",
      "[6.823986882635453, 4.464313076219943, 3.0042231106286437, 1.2347535754954673] [0.6931212603355571, 0.693121260335544, 0.6931212603355101, 0.6931212603357699]\n",
      "test_loss: 0.014248248189687729 correct: 1.0\n"
     ]
    }
   ],
   "source": [
    "optimizer = optim.SGD(model.parameters(), lr=.1)\n",
    "_y_train = np.argmax(y_train, axis=1)\n",
    "data, target = torch.tensor(x_train).to(device), torch.tensor(_y_train).to(device)\n",
    "mi_xt_all = []; mi_ty_all = []; epochs = []\n",
    "for epoch in range(0, 1000):\n",
    "    activation = {}\n",
    "    \n",
    "    model.train()\n",
    "    optimizer.zero_grad()\n",
    "    output = F.log_softmax(model(data), dim=1)\n",
    "    loss = F.nll_loss(output, target) # nn.CrossEntropyLoss applies internally F.log_softmax and nn.NLLLoss\n",
    "    loss.backward()\n",
    "    optimizer.step()\n",
    "#     print(epoch, loss.item())\n",
    "\n",
    "    if epoch % 50 == 0:\n",
    "        mi_xt, mi_ty = get_all_mutual_information()\n",
    "        print(mi_xt, mi_ty)\n",
    "        mi_xt_all.append(mi_xt)\n",
    "        mi_ty_all.append(mi_ty)\n",
    "        epochs.append(epoch)\n",
    "    \n",
    "        model.eval()\n",
    "        test_loss = 0\n",
    "        correct = 0\n",
    "        with torch.no_grad():\n",
    "            output = F.log_softmax(model(data), dim=1)\n",
    "            test_loss += F.nll_loss(output, target, reduction='mean').item()  # sum up batch loss\n",
    "            pred = output.argmax(dim=1, keepdim=True)  # get the index of the max log-probability\n",
    "            correct += pred.eq(target.view_as(pred)).sum().item()\n",
    "        print('test_loss:', test_loss, 'correct:', correct/len(target))"
   ]
  },
  {
   "cell_type": "code",
   "execution_count": 7,
   "id": "d8103fdf",
   "metadata": {},
   "outputs": [],
   "source": [
    "%matplotlib inline\n",
    "import matplotlib.pyplot as plt\n",
    "from matplotlib import animation\n",
    "from IPython.display import HTML"
   ]
  },
  {
   "cell_type": "code",
   "execution_count": 8,
   "id": "f05d0d8e",
   "metadata": {},
   "outputs": [],
   "source": [
    "mi_xt_all = np.array(mi_xt_all)\n",
    "mi_ty_all = np.array(mi_ty_all)"
   ]
  },
  {
   "cell_type": "code",
   "execution_count": 9,
   "id": "fdbcd9f6",
   "metadata": {
    "scrolled": true
   },
   "outputs": [],
   "source": [
    "cmap = plt.cm.get_cmap('cool')\n",
    "def animate(i):\n",
    "    title.set_text('Epoch %s' % str(epochs[i]).zfill(4))\n",
    "    ax.plot(mi_xt_all[i,:], mi_ty_all[i,:], 'k-',alpha=0.2)\n",
    "    if i > 0:\n",
    "        for j in range(len(mi_xt_all[0])):\n",
    "            ax.plot(mi_xt_all[(i-1):(i+1),j],mi_ty_all[(i-1):(i+1),j],'*-',c=cmap(j*.2),ms=10)\n",
    "    return"
   ]
  },
  {
   "cell_type": "code",
   "execution_count": 10,
   "id": "2e43eee0",
   "metadata": {},
   "outputs": [
    {
     "data": {
      "image/png": "[encoded data removed]",
      "text/plain": [
       "<Figure size 576x576 with 1 Axes>"
      ]
     },
     "metadata": {
      "needs_background": "light"
     },
     "output_type": "display_data"
    }
   ],
   "source": [
    "fig, ax = plt.subplots(figsize=(8,8))\n",
    "ax.set_xlim((0,7))\n",
    "ax.set_ylim((0.,0.7))\n",
    "ax.set_xlabel('I(X;T)')\n",
    "ax.set_ylabel('I(T;Y)')\n",
    "title = ax.set_title('')\n",
    "for i in range(1,len(mi_xt_all)):\n",
    "    animate(i)\n",
    "# animate(9)"
   ]
  },
  {
   "cell_type": "code",
   "execution_count": null,
   "id": "9634fa23",
   "metadata": {},
   "outputs": [],
   "source": []
  }
 ],
 "metadata": {
  "kernelspec": {
   "display_name": "GaitSelfFormer",
   "language": "python",
   "name": "gaitselfformer"
  },
  "language_info": {
   "codemirror_mode": {
    "name": "ipython",
    "version": 3
   },
   "file_extension": ".py",
   "mimetype": "text/x-python",
   "name": "python",
   "nbconvert_exporter": "python",
   "pygments_lexer": "ipython3",
   "version": "3.7.11"
  }
 },
 "nbformat": 4,
 "nbformat_minor": 5
}
