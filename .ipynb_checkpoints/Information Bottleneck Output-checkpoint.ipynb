{
 "cells": [
  {
   "cell_type": "code",
   "execution_count": 12,
   "id": "3ae54a34",
   "metadata": {},
   "outputs": [],
   "source": [
    "import torch\n",
    "import torch.nn as nn\n",
    "import torch.nn.functional as F\n",
    "import torch.optim as optim\n",
    "from torchvision import datasets, transforms\n",
    "from torch.optim.lr_scheduler import StepLR\n",
    "torch.manual_seed(1)\n",
    "device = torch.device(\"cuda\" if torch.cuda.is_available() else \"cpu\")"
   ]
  },
  {
   "cell_type": "markdown",
   "id": "09e0c167",
   "metadata": {},
   "source": [
    "https://github.com/stevenliuyi/information-bottleneck/blob/master/information_bottleneck.ipynb <br>\n",
    "function: calc_mutual_information"
   ]
  },
  {
   "cell_type": "code",
   "execution_count": 6,
   "id": "872bc4f7",
   "metadata": {},
   "outputs": [],
   "source": [
    "class Net(nn.Module):\n",
    "    def __init__(self):\n",
    "        super(Net, self).__init__()\n",
    "        self.conv1 = nn.Conv2d(1, 32, 3, 1)\n",
    "        self.conv2 = nn.Conv2d(32, 64, 3, 1)\n",
    "        self.dropout1 = nn.Dropout(0.25)\n",
    "        self.dropout2 = nn.Dropout(0.5)\n",
    "        self.fc1 = nn.Linear(9216, 128)\n",
    "        self.fc2 = nn.Linear(128, 10)\n",
    "\n",
    "    def forward(self, x):\n",
    "        x = self.conv1(x)\n",
    "        x = F.relu(x)\n",
    "        x = self.conv2(x)\n",
    "        x = F.relu(x)\n",
    "        x = F.max_pool2d(x, 2)\n",
    "        x = self.dropout1(x)\n",
    "        x = torch.flatten(x, 1)\n",
    "        x = self.fc1(x)\n",
    "        x = F.relu(x)\n",
    "        x = self.dropout2(x)\n",
    "        x = self.fc2(x)\n",
    "        output = F.log_softmax(x, dim=1)\n",
    "        return output"
   ]
  },
  {
   "cell_type": "code",
   "execution_count": 4,
   "id": "e7715dd5",
   "metadata": {},
   "outputs": [],
   "source": [
    "class Net(nn.Module):\n",
    "    def __init__(self):\n",
    "        super(Net, self).__init__()\n",
    "        self.fc1 = nn.Linear(784 , 128)\n",
    "        self.fc2 = nn.Linear(128, 10)\n",
    "\n",
    "    def forward(self, x):\n",
    "        x = torch.flatten(x, 1)\n",
    "        x = self.fc1(x)\n",
    "        if self.btn1 is None:\n",
    "            self.btn1 = x.detach().copy()\n",
    "        x = F.relu(x)\n",
    "        x = self.fc2(x)\n",
    "        output = F.log_softmax(x, dim=1)\n",
    "        return output"
   ]
  },
  {
   "cell_type": "code",
   "execution_count": 5,
   "id": "eb3011bc",
   "metadata": {},
   "outputs": [],
   "source": [
    "def train(model, train_loader, optimizer, epoch):\n",
    "    model.train()\n",
    "    for batch_idx, (data, target) in enumerate(train_loader):\n",
    "        data, target = data.to(device), target.to(device)\n",
    "        optimizer.zero_grad()\n",
    "        output = F.log_softmax(model(data), dim=1)\n",
    "        loss = F.nll_loss(output, target) # nn.CrossEntropyLoss applies internally F.log_softmax and nn.NLLLoss\n",
    "        loss.backward()\n",
    "        optimizer.step()\n",
    "        if batch_idx % 100 == 0:\n",
    "            print('Train Epoch: {} [{}/{} ({:.0f}%)]\\tLoss: {:.6f}'.format(\n",
    "                epoch, batch_idx * len(data), len(train_loader.dataset),\n",
    "                100. * batch_idx / len(train_loader), loss.item()))\n",
    "\n",
    "\n",
    "def test(model, test_loader):\n",
    "    model.eval()\n",
    "    test_loss = 0\n",
    "    correct = 0\n",
    "    with torch.no_grad():\n",
    "        for data, target in test_loader:\n",
    "            data, target = data.to(device), target.to(device)\n",
    "            output = F.log_softmax(model(data), dim=1)\n",
    "            test_loss += F.nll_loss(output, target, reduction='sum').item()  # sum up batch loss\n",
    "            pred = output.argmax(dim=1, keepdim=True)  # get the index of the max log-probability\n",
    "            correct += pred.eq(target.view_as(pred)).sum().item()\n",
    "\n",
    "    test_loss /= len(test_loader.dataset)\n",
    "\n",
    "    print('\\nTest set: Average loss: {:.4f}, Accuracy: {}/{} ({:.0f}%)\\n'.format(\n",
    "        test_loss, correct, len(test_loader.dataset),\n",
    "        100. * correct / len(test_loader.dataset)))"
   ]
  },
  {
   "cell_type": "code",
   "execution_count": 6,
   "id": "87532622",
   "metadata": {},
   "outputs": [],
   "source": [
    "\n",
    "\n",
    "transform=transforms.Compose([\n",
    "    transforms.ToTensor(),\n",
    "    transforms.Normalize((0.1307,), (0.3081,))\n",
    "    ])\n",
    "dataset1 = datasets.MNIST('./data', train=True, download=True,\n",
    "                   transform=transform)\n",
    "dataset2 = datasets.MNIST('./data', train=False,\n",
    "                   transform=transform)\n",
    "\n",
    "train_loader = torch.utils.data.DataLoader(dataset1, batch_size=64, num_workers=1, pin_memory=True, shuffle=True)\n",
    "test_loader = torch.utils.data.DataLoader(dataset2, batch_size=64, num_workers=1, pin_memory=True, shuffle=True)\n",
    "\n",
    "model = Net().to(device)\n",
    "checkpoint = torch.load('./model.pt')\n",
    "model.load_state_dict(checkpoint)\n",
    "optimizer = optim.Adadelta(model.parameters(), lr=1)"
   ]
  },
  {
   "cell_type": "code",
   "execution_count": 14,
   "id": "943c89e4",
   "metadata": {
    "scrolled": true
   },
   "outputs": [],
   "source": [
    "# scheduler = StepLR(optimizer, step_size=1, gamma=0.7)\n",
    "# for epoch in range(1, 10 + 1):\n",
    "#     train(model, train_loader, optimizer, epoch)\n",
    "#     test(model, test_loader)\n",
    "#     scheduler.step()"
   ]
  },
  {
   "cell_type": "code",
   "execution_count": 35,
   "id": "e133d293",
   "metadata": {},
   "outputs": [],
   "source": [
    "# torch.save(model.state_dict(), './model.pt')"
   ]
  },
  {
   "cell_type": "code",
   "execution_count": 11,
   "id": "852ae1d4",
   "metadata": {},
   "outputs": [
    {
     "name": "stdout",
     "output_type": "stream",
     "text": [
      "\n",
      "Test set: Average loss: 2.3492, Accuracy: 672/10000 (7%)\n",
      "\n"
     ]
    }
   ],
   "source": [
    "temp = []\n",
    "class Net(nn.Module):\n",
    "    def __init__(self):\n",
    "        super(Net, self).__init__()\n",
    "        self.fc1 = nn.Linear(784 , 128)\n",
    "        self.fc2 = nn.Linear(128, 10)\n",
    "\n",
    "    def forward(self, x):\n",
    "        x = torch.flatten(x, 1)\n",
    "        x = self.fc1(x)\n",
    "        temp.append(x.detach().clone())\n",
    "        x = F.relu(x)\n",
    "        x = self.fc2(x)\n",
    "        output = F.log_softmax(x, dim=1)\n",
    "        return output\n",
    "model = Net().to(device)\n",
    "# checkpoint = torch.load('./model.pt')\n",
    "# model.load_state_dict(checkpoint)\n",
    "optimizer = optim.Adadelta(model.parameters(), lr=1)\n",
    "test(model, test_loader)"
   ]
  },
  {
   "cell_type": "code",
   "execution_count": 13,
   "id": "1efd537e",
   "metadata": {
    "scrolled": true
   },
   "outputs": [
    {
     "ename": "ValueError",
     "evalue": "only one element tensors can be converted to Python scalars",
     "output_type": "error",
     "traceback": [
      "\u001b[0;31m---------------------------------------------------------------------------\u001b[0m",
      "\u001b[0;31mValueError\u001b[0m                                Traceback (most recent call last)",
      "\u001b[0;32m/tmp/ipykernel_14060/2473937107.py\u001b[0m in \u001b[0;36m<module>\u001b[0;34m\u001b[0m\n\u001b[0;32m----> 1\u001b[0;31m \u001b[0mtorch\u001b[0m\u001b[0;34m.\u001b[0m\u001b[0mtensor\u001b[0m\u001b[0;34m(\u001b[0m\u001b[0mtemp\u001b[0m\u001b[0;34m)\u001b[0m\u001b[0;34m.\u001b[0m\u001b[0mshape\u001b[0m\u001b[0;34m\u001b[0m\u001b[0;34m\u001b[0m\u001b[0m\n\u001b[0m",
      "\u001b[0;31mValueError\u001b[0m: only one element tensors can be converted to Python scalars"
     ]
    }
   ],
   "source": [
    "torch.tensor(temp).shape"
   ]
  },
  {
   "cell_type": "markdown",
   "id": "cc92dd22",
   "metadata": {},
   "source": [
    "### Information Bottleneck theory for Deep Learning"
   ]
  },
  {
   "cell_type": "code",
   "execution_count": 41,
   "id": "e3861910",
   "metadata": {},
   "outputs": [],
   "source": [
    "import numpy as np\n",
    "from random import randint, seed\n",
    "from torch.utils.data import Dataset\n",
    "from collections import Counter"
   ]
  },
  {
   "cell_type": "code",
   "execution_count": 85,
   "id": "eecd0ef9",
   "metadata": {},
   "outputs": [],
   "source": [
    "\n",
    "def calc_mutual_information(hidden, n_samples):\n",
    "    n_neurons = hidden.shape[1]\n",
    "  \n",
    "    # discretization \n",
    "    n_bins = 30\n",
    "    bins = np.linspace(-1, 1, n_bins+1)\n",
    "    indices = np.digitize(hidden, bins)\n",
    "    \n",
    "    # initialize pdfs\n",
    "    pdf_x = Counter(); pdf_y = Counter(); pdf_t = Counter(); pdf_xt = Counter(); pdf_yt = Counter()\n",
    "\n",
    "#     n_samples = n_test_samples\n",
    "    for i in range(n_samples):\n",
    "        pdf_x[i] += 1/float(n_samples)\n",
    "        pdf_y[y_train[i,0]] += 1/float(n_samples)      \n",
    "        pdf_xt[(i,)+tuple(indices[i,:])] += 1/float(n_samples)\n",
    "        pdf_yt[(y_train[i,0],)+tuple(indices[i,:])] += 1/float(n_samples)\n",
    "        pdf_t[tuple(indices[i,:])] += 1/float(n_samples)\n",
    "    \n",
    "    # calcuate encoder mutual information I(X;T)\n",
    "    mi_xt = 0\n",
    "    for i in pdf_xt:\n",
    "        # P(x,t), P(x) and P(t)\n",
    "        p_xt = pdf_xt[i]; p_x = pdf_x[i[0]]; p_t = pdf_t[i[1:]]\n",
    "        # I(X;T)\n",
    "        mi_xt += p_xt * np.log(p_xt / p_x / p_t)\n",
    " \n",
    "    # calculate decoder mutual information I(T;Y)\n",
    "    mi_ty = 0\n",
    "    for i in pdf_yt:\n",
    "        # P(t,y), P(t) and P(y)\n",
    "        p_yt = pdf_yt[i]; p_t = pdf_t[i[1:]]; p_y = pdf_y[i[0]]\n",
    "        # I(X;T)\n",
    "        mi_ty += p_yt * np.log(p_yt / p_t / p_y)\n",
    "            \n",
    "    return mi_xt, mi_ty\n",
    "\n",
    "# get mutual information for all hidden layers\n",
    "def get_mutual_information(hiddens):\n",
    "    mi_xt_list = []; mi_ty_list = []\n",
    "    for hidden in hiddens:\n",
    "        mi_xt, mi_ty = calc_mutual_information(hidden, hiddens[0].shape[0])\n",
    "        mi_xt_list.append(mi_xt)\n",
    "        mi_ty_list.append(mi_ty)\n",
    "    return mi_xt_list, mi_ty_list"
   ]
  },
  {
   "cell_type": "code",
   "execution_count": 86,
   "id": "4c885231",
   "metadata": {},
   "outputs": [],
   "source": [
    "n_train_samples = 50000 # number of train samples\n",
    "n_test_samples = 10000 # number of test samples\n",
    "\n",
    "groups = np.append(np.zeros(8),np.ones(8)) # 16 groups\n",
    "np.random.seed(1234)\n",
    "np.random.shuffle(groups)\n",
    "\n",
    "# generate samples\n",
    "seed(1234)\n",
    "def generate_samples(n_samples):\n",
    "    x_data = np.zeros((n_samples, 10)) # inputs\n",
    "    x_int = np.zeros(n_samples) # integers representing the inputs\n",
    "    y_data = np.zeros((n_samples, 2)) # outputs\n",
    "    \n",
    "    for i in range(n_samples):\n",
    "        random_int = randint(0, 1023)\n",
    "        x_data[i,:] = [int(b) for b in list(\"{0:b}\".format(random_int).zfill(10))]\n",
    "        x_int[i] = random_int\n",
    "        y_data[i,0] = groups[random_int % 16]\n",
    "        y_data[i,1] = 1 - y_data[i,0]\n",
    "    return np.array(x_data, dtype=np.float32), np.array(y_data, dtype=np.float32), x_int\n",
    "\n",
    "x_train, y_train, x_train_int = generate_samples(n_train_samples) # training dataset\n",
    "x_test, y_test, _ = generate_samples(n_test_samples) # testing dataset"
   ]
  },
  {
   "cell_type": "code",
   "execution_count": 87,
   "id": "799f19d2",
   "metadata": {},
   "outputs": [],
   "source": [
    "class RandomDataset(Dataset):\n",
    "    def __init__(self, n_samples):\n",
    "        super().__init__()\n",
    "        self.x, self.y, _ = generate_samples(n_samples)\n",
    "        self.y = np.argmax(self.y, axis=1)\n",
    "\n",
    "    def __len__(self):\n",
    "        return len(self.y)\n",
    "\n",
    "    def __getitem__(self, index):\n",
    "        return self.x[index], self.y[index]\n",
    "\n",
    "train_loader = torch.utils.data.DataLoader(\n",
    "    RandomDataset(n_train_samples),\n",
    "    batch_size=1024,\n",
    "    num_workers=8,\n",
    "    pin_memory=True,\n",
    "    shuffle=True,\n",
    ")\n",
    "test_loader = torch.utils.data.DataLoader(\n",
    "    RandomDataset(n_test_samples),\n",
    "    batch_size=1024,\n",
    "    num_workers=8,\n",
    "    pin_memory=True,\n",
    "    shuffle=True,\n",
    ")"
   ]
  },
  {
   "cell_type": "code",
   "execution_count": 88,
   "id": "7047ab9c",
   "metadata": {},
   "outputs": [],
   "source": [
    "class Net(nn.Module):\n",
    "    def __init__(self):\n",
    "        super(Net, self).__init__()\n",
    "        self.fc1 = nn.Linear(10 , 8)\n",
    "        self.fc2 = nn.Linear(8, 6)\n",
    "        self.fc3 = nn.Linear(6, 4)\n",
    "        self.fc4 = nn.Linear(4, 2)\n",
    "\n",
    "    def forward(self, x):\n",
    "        x = self.fc1(x)\n",
    "        x = F.relu(x)\n",
    "        x = self.fc2(x)\n",
    "        x = F.relu(x)\n",
    "        x = self.fc3(x)\n",
    "        x = F.relu(x)\n",
    "        x = self.fc4(x)\n",
    "        output = F.log_softmax(x, dim=1)\n",
    "        return output\n",
    "model = Net().to(device)"
   ]
  },
  {
   "cell_type": "code",
   "execution_count": 89,
   "id": "0a34dff2",
   "metadata": {
    "scrolled": true
   },
   "outputs": [],
   "source": [
    "activation = {}\n",
    "def get_activation(name):\n",
    "    def hook(model, input, output):\n",
    "        if name not in activation:\n",
    "            activation[name] = input[0].detach()\n",
    "        else:\n",
    "            activation[name] = torch.cat([activation[name], input[0].detach()])\n",
    "    return hook\n",
    "\n",
    "handle1 = model.fc1.register_forward_hook(get_activation('fc1')) \n",
    "handle2 = model.fc2.register_forward_hook(get_activation('fc2')) \n",
    "handle3 = model.fc3.register_forward_hook(get_activation('fc3'))\n",
    "handle4 = model.fc4.register_forward_hook(get_activation('fc4')) "
   ]
  },
  {
   "cell_type": "code",
   "execution_count": 90,
   "id": "1ff9cc87",
   "metadata": {},
   "outputs": [],
   "source": [
    "def get_all_mutual_information():\n",
    "    _activation = []\n",
    "    for k in activation.keys():\n",
    "        _activation.append(activation[k].detach().cpu().numpy())\n",
    "    mi_xt, mi_ty = get_mutual_information(_activation)\n",
    "    return mi_xt, mi_ty"
   ]
  },
  {
   "cell_type": "code",
   "execution_count": 91,
   "id": "aceb86f1",
   "metadata": {},
   "outputs": [],
   "source": [
    "def train(model, train_loader, optimizer, epoch):\n",
    "    model.train()\n",
    "    for batch_idx, (data, target) in enumerate(train_loader):\n",
    "        data, target = data.to(device), target.to(device)\n",
    "        optimizer.zero_grad()\n",
    "        output = F.log_softmax(model(data), dim=1)\n",
    "        loss = F.nll_loss(output, target) # nn.CrossEntropyLoss applies internally F.log_softmax and nn.NLLLoss\n",
    "        loss.backward()\n",
    "        optimizer.step()\n",
    "        if batch_idx % 100 == 0:\n",
    "            print('Train Epoch: {} [{}/{} ({:.0f}%)]\\tLoss: {:.6f}'.format(\n",
    "                epoch, batch_idx * len(data), len(train_loader.dataset),\n",
    "                100. * batch_idx / len(train_loader), loss.item()))\n",
    "\n",
    "\n",
    "def test(model, test_loader):\n",
    "    model.eval()\n",
    "    test_loss = 0\n",
    "    correct = 0\n",
    "    with torch.no_grad():\n",
    "        for data, target in test_loader:\n",
    "            data, target = data.to(device), target.to(device)\n",
    "            output = F.log_softmax(model(data), dim=1)\n",
    "            test_loss += F.nll_loss(output, target, reduction='sum').item()  # sum up batch loss\n",
    "            pred = output.argmax(dim=1, keepdim=True)  # get the index of the max log-probability\n",
    "            correct += pred.eq(target.view_as(pred)).sum().item()\n",
    "\n",
    "    test_loss /= len(test_loader.dataset)\n",
    "\n",
    "    print('\\nTest set: Average loss: {:.4f}, Accuracy: {}/{} ({:.0f}%)\\n'.format(\n",
    "        test_loss, correct, len(test_loader.dataset),\n",
    "        100. * correct / len(test_loader.dataset)))"
   ]
  },
  {
   "cell_type": "code",
   "execution_count": null,
   "id": "653eec93",
   "metadata": {
    "scrolled": true
   },
   "outputs": [
    {
     "name": "stdout",
     "output_type": "stream",
     "text": [
      "Train Epoch: 0 [0/50000 (0%)]\tLoss: 0.288646\n",
      "[6.920991863563971, 6.893462317592381, 4.418954923164283, 1.4117115922157724] [0.010524254252396826, 0.011514581564027576, 0.0017105764638673162, 0.00015686321337215608]\n",
      "\n",
      "Test set: Average loss: 0.3109, Accuracy: 8767/10000 (88%)\n",
      "\n",
      "Train Epoch: 1 [0/50000 (0%)]\tLoss: 0.301796\n",
      "\n",
      "Test set: Average loss: 0.3109, Accuracy: 8767/10000 (88%)\n",
      "\n",
      "Train Epoch: 2 [0/50000 (0%)]\tLoss: 0.321092\n",
      "\n",
      "Test set: Average loss: 0.3109, Accuracy: 8767/10000 (88%)\n",
      "\n",
      "Train Epoch: 3 [0/50000 (0%)]\tLoss: 0.308026\n",
      "\n",
      "Test set: Average loss: 0.3109, Accuracy: 8767/10000 (88%)\n",
      "\n",
      "Train Epoch: 4 [0/50000 (0%)]\tLoss: 0.321684\n",
      "\n",
      "Test set: Average loss: 0.3108, Accuracy: 8767/10000 (88%)\n",
      "\n",
      "Train Epoch: 5 [0/50000 (0%)]\tLoss: 0.325533\n",
      "\n",
      "Test set: Average loss: 0.3108, Accuracy: 8767/10000 (88%)\n",
      "\n",
      "Train Epoch: 6 [0/50000 (0%)]\tLoss: 0.300079\n",
      "\n",
      "Test set: Average loss: 0.3108, Accuracy: 8767/10000 (88%)\n",
      "\n",
      "Train Epoch: 7 [0/50000 (0%)]\tLoss: 0.321458\n",
      "\n",
      "Test set: Average loss: 0.3108, Accuracy: 8767/10000 (88%)\n",
      "\n",
      "Train Epoch: 8 [0/50000 (0%)]\tLoss: 0.310290\n",
      "\n",
      "Test set: Average loss: 0.3108, Accuracy: 8767/10000 (88%)\n",
      "\n",
      "Train Epoch: 9 [0/50000 (0%)]\tLoss: 0.310752\n",
      "\n",
      "Test set: Average loss: 0.3108, Accuracy: 8767/10000 (88%)\n",
      "\n",
      "Train Epoch: 10 [0/50000 (0%)]\tLoss: 0.314555\n"
     ]
    }
   ],
   "source": [
    "optimizer = optim.SGD(model.parameters(), lr=.1)\n",
    "for epoch in range(0, 40):\n",
    "    activation = {}\n",
    "    mi_xt, mi_ty = get_all_mutual_information()\n",
    "    print('++', mi_xt, mi_ty)\n",
    "    train(model, train_loader, optimizer, epoch)\n",
    "    if epoch % 10 == 0:\n",
    "        mi_xt, mi_ty = get_all_mutual_information()\n",
    "        print(mi_xt, mi_ty)\n",
    "    test(model, test_loader)\n"
   ]
  },
  {
   "cell_type": "code",
   "execution_count": null,
   "id": "ee9a0a0e",
   "metadata": {},
   "outputs": [],
   "source": []
  }
 ],
 "metadata": {
  "kernelspec": {
   "display_name": "GaitSelfFormer",
   "language": "python",
   "name": "gaitselfformer"
  },
  "language_info": {
   "codemirror_mode": {
    "name": "ipython",
    "version": 3
   },
   "file_extension": ".py",
   "mimetype": "text/x-python",
   "name": "python",
   "nbconvert_exporter": "python",
   "pygments_lexer": "ipython3",
   "version": "3.7.11"
  }
 },
 "nbformat": 4,
 "nbformat_minor": 5
}
